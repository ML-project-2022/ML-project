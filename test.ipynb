{
 "cells": [
  {
   "cell_type": "code",
   "execution_count": 16,
   "metadata": {
    "collapsed": true,
    "pycharm": {
     "name": "#%%\n"
    }
   },
   "outputs": [],
   "source": [
    "import numpy as np\n",
    "from torchvision.models import vgg19\n",
    "from torch import nn\n",
    "from torchvision.utils import save_image\n",
    "import torch\n",
    "import cv2\n",
    "from tqdm import tqdm\n",
    "device = 'cuda' if torch.cuda.is_available() else 'cpu'"
   ]
  },
  {
   "cell_type": "code",
   "execution_count": 17,
   "outputs": [],
   "source": [
    "# 读取图片\n",
    "def load_image(path):\n",
    "    image = cv2.imread(path)  # 打开图片\n",
    "    image = cv2.cvtColor(image, cv2.COLOR_BGR2RGB)  # 转换通道，因为opencv默认读取格式为BGR，转换为RGB格式\n",
    "    image = torch.from_numpy(image).float() / 255  # 数值归一化操作\n",
    "    image = image.permute(2, 0, 1).unsqueeze(0)  # 换轴，（H,W,C）转换为（C,H,W），并做升维处理。\n",
    "    return image\n"
   ],
   "metadata": {
    "collapsed": false,
    "pycharm": {
     "name": "#%%\n"
    }
   }
  },
  {
   "cell_type": "code",
   "execution_count": 18,
   "outputs": [],
   "source": [
    "# 定义损失函数\n",
    "def get_gram_matrix(features_map): #计算gram矩阵\n",
    "    n, c, h, w = features_map.shape\n",
    "    if n == 1:\n",
    "        features_map = features_map.reshape(c, -1)\n",
    "        gram_matrix = features_map@features_map.T\n",
    "        return gram_matrix\n",
    "    else:\n",
    "        raise ValueError('Can not process more than one picture')\n",
    "\n",
    "def style_loss(feature_bank_x,feature_bank_style):\n",
    "    E=0\n",
    "    n_layer=len(feature_bank_style)\n",
    "    w=1/n_layer\n",
    "    for i, feature in enumerate(feature_bank_style):\n",
    "        shape=feature_bank_x[i].shape\n",
    "        C = int(shape [1])\n",
    "        H = int(shape[2])\n",
    "        W = int(shape[3])\n",
    "        G_x=get_gram_matrix(feature_bank_x[i])\n",
    "        G_s = get_gram_matrix(feature)\n",
    "        loss_func=nn.MSELoss().cuda()\n",
    "        E += w * loss_func(G_x,G_s)/ (4 * C**2 * H**2 * W**2)*100**3\n",
    "    return E\n",
    "\n",
    "def content_loss(out_x, out_content):\n",
    "    loss_func=nn.MSELoss().cuda()\n",
    "    C=int(out_x.shape[1])\n",
    "    return loss_func(out_x, out_content)/(2*C**2)*100**3\n",
    "\n"
   ],
   "metadata": {
    "collapsed": false,
    "pycharm": {
     "name": "#%%\n"
    }
   }
  },
  {
   "cell_type": "code",
   "execution_count": 19,
   "outputs": [],
   "source": [
    "#建立模型\n",
    "class VGG19(nn.Module): #vgg_19 model\n",
    "    def __init__(self):\n",
    "        super(VGG19, self).__init__()\n",
    "        self.indexes=[-1,]\n",
    "        vgg_model=vgg19()\n",
    "        pre_trained=torch.load(\"vgg_para/vgg19.pth\")\n",
    "        vgg_model.load_state_dict(pre_trained)\n",
    "        self.features=vgg_model.features\n",
    "        for i,layer in enumerate(self.features):\n",
    "            if isinstance(layer,nn.ReLU):\n",
    "                self.indexes.append(i)\n",
    "        selected_layer=[0,1,3,5,9,10,13] # 选择用来计算损失函数的ReLU层\n",
    "        self.indexes=np.array(self.indexes)[selected_layer]\n",
    "\n",
    "    def forward(self,input):\n",
    "        features_bank=[]\n",
    "        out=input\n",
    "        n=len(self.indexes)\n",
    "        for i in range(1,n):\n",
    "            out=self.features[self.indexes[i-1]+1:self.indexes[i]+1](out) # 计算ReLU后的结果\n",
    "            features_bank.append(out)\n",
    "        out=features_bank[-2]\n",
    "        return features_bank, out\n",
    "\n",
    "\n",
    "class GNet(nn.Module): # 要训练的model\n",
    "    def __init__(self, image):\n",
    "        super(GNet, self).__init__()\n",
    "        self.image_g = nn.Parameter(image.detach().clone())# 从白噪声开始\n",
    "\n",
    "    def forward(self):\n",
    "        return self.image_g\n",
    "\n"
   ],
   "metadata": {
    "collapsed": false,
    "pycharm": {
     "name": "#%%\n"
    }
   }
  },
  {
   "cell_type": "code",
   "execution_count": 20,
   "outputs": [],
   "source": [
    "#训练模型\n",
    "content_path='content/content.jpg'\n",
    "style_path='style/style2.jpg'\n",
    "content_img=load_image(content_path).cuda()\n",
    "style_img=load_image(style_path).cuda()\n",
    "g_net=GNet(content_img).cuda()\n",
    "vgg_net= VGG19().cuda()\n",
    "with torch.no_grad():\n",
    "    features_bank_style, out_style=vgg_net(style_img)\n",
    "    features_bank_content, out_content=vgg_net(content_img)"
   ],
   "metadata": {
    "collapsed": false,
    "pycharm": {
     "name": "#%%\n"
    }
   }
  },
  {
   "cell_type": "code",
   "execution_count": 21,
   "outputs": [],
   "source": [
    "def train_loop(epoches, alpha,beta ,learning_rate):\n",
    "    optimizer = torch.optim.Adam(g_net.parameters(), lr=learning_rate)\n",
    "    scheduler = torch.optim.lr_scheduler.StepLR(optimizer, step_size=100, gamma=0.95)\n",
    "    for t in tqdm(range(epoches)):\n",
    "        image_x = g_net()\n",
    "        features_bank_x, out_x= vgg_net(image_x)\n",
    "\n",
    "        # 计算损失\n",
    "        loss_s=style_loss(features_bank_x,features_bank_style)\n",
    "        loss_c=content_loss(out_x, out_content)\n",
    "        loss_total=alpha*loss_c+beta*loss_s\n",
    "\n",
    "        # 优化器\n",
    "        optimizer.zero_grad()\n",
    "        loss_total.backward()\n",
    "        optimizer.step()\n",
    "        scheduler.step()\n",
    "\n",
    "        #输出\n",
    "        if t % 100 == 0:\n",
    "            print(t, loss_total.item(), loss_c.item(), loss_s.item())\n",
    "            save_image(image_x, f'{t/100}.jpg', padding=0, normalize=True, value_range=(0, 1))"
   ],
   "metadata": {
    "collapsed": false,
    "pycharm": {
     "name": "#%%\n"
    }
   }
  },
  {
   "cell_type": "code",
   "execution_count": null,
   "outputs": [
    {
     "name": "stderr",
     "output_type": "stream",
     "text": [
      "  0%|          | 6/10000 [00:00<12:04, 13.80it/s]  "
     ]
    },
    {
     "name": "stdout",
     "output_type": "stream",
     "text": [
      "0 0.8006188273429871 0.0 0.8006188273429871\n"
     ]
    },
    {
     "name": "stderr",
     "output_type": "stream",
     "text": [
      "  1%|          | 106/10000 [00:06<09:09, 18.01it/s]"
     ]
    },
    {
     "name": "stdout",
     "output_type": "stream",
     "text": [
      "100 0.019242379814386368 7.281829833984375 0.011960550211369991\n"
     ]
    },
    {
     "name": "stderr",
     "output_type": "stream",
     "text": [
      "  2%|▏         | 206/10000 [00:12<09:27, 17.27it/s]"
     ]
    },
    {
     "name": "stdout",
     "output_type": "stream",
     "text": [
      "200 0.013864647597074509 7.1571736335754395 0.006707473658025265\n"
     ]
    },
    {
     "name": "stderr",
     "output_type": "stream",
     "text": [
      "  3%|▎         | 306/10000 [00:18<09:14, 17.47it/s]"
     ]
    },
    {
     "name": "stdout",
     "output_type": "stream",
     "text": [
      "300 0.012168129906058311 7.048640727996826 0.0051194895058870316\n"
     ]
    },
    {
     "name": "stderr",
     "output_type": "stream",
     "text": [
      "  3%|▎         | 346/10000 [00:20<09:32, 16.88it/s]"
     ]
    }
   ],
   "source": [
    "train_loop(10000,1e-3,1,0.01)"
   ],
   "metadata": {
    "collapsed": false,
    "pycharm": {
     "name": "#%%\n",
     "is_executing": true
    }
   }
  }
 ],
 "metadata": {
  "kernelspec": {
   "display_name": "Python 3",
   "language": "python",
   "name": "python3"
  },
  "language_info": {
   "codemirror_mode": {
    "name": "ipython",
    "version": 2
   },
   "file_extension": ".py",
   "mimetype": "text/x-python",
   "name": "python",
   "nbconvert_exporter": "python",
   "pygments_lexer": "ipython2",
   "version": "2.7.6"
  }
 },
 "nbformat": 4,
 "nbformat_minor": 0
}